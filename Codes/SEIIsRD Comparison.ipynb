{
 "cells": [
  {
   "cell_type": "code",
   "execution_count": 1,
   "metadata": {},
   "outputs": [],
   "source": [
    "import numpy as np\n",
    "from sklearn.metrics import mean_squared_error\n",
    "import pandas as pd\n",
    "import matplotlib.pyplot as plt"
   ]
  },
  {
   "cell_type": "code",
   "execution_count": 2,
   "metadata": {},
   "outputs": [],
   "source": [
    "N = 164689383"
   ]
  },
  {
   "cell_type": "code",
   "execution_count": 3,
   "metadata": {},
   "outputs": [
    {
     "data": {
      "text/html": [
       "<div>\n",
       "<style scoped>\n",
       "    .dataframe tbody tr th:only-of-type {\n",
       "        vertical-align: middle;\n",
       "    }\n",
       "\n",
       "    .dataframe tbody tr th {\n",
       "        vertical-align: top;\n",
       "    }\n",
       "\n",
       "    .dataframe thead th {\n",
       "        text-align: right;\n",
       "    }\n",
       "</style>\n",
       "<table border=\"1\" class=\"dataframe\">\n",
       "  <thead>\n",
       "    <tr style=\"text-align: right;\">\n",
       "      <th></th>\n",
       "      <th>Date</th>\n",
       "      <th>Tested</th>\n",
       "      <th>Confirmed</th>\n",
       "      <th>Isolation</th>\n",
       "      <th>Recovered</th>\n",
       "      <th>Death</th>\n",
       "    </tr>\n",
       "  </thead>\n",
       "  <tbody>\n",
       "    <tr>\n",
       "      <th>0</th>\n",
       "      <td>1/5/2020</td>\n",
       "      <td>5573</td>\n",
       "      <td>571</td>\n",
       "      <td>175</td>\n",
       "      <td>14</td>\n",
       "      <td>2</td>\n",
       "    </tr>\n",
       "    <tr>\n",
       "      <th>1</th>\n",
       "      <td>2/5/2020</td>\n",
       "      <td>5827</td>\n",
       "      <td>552</td>\n",
       "      <td>168</td>\n",
       "      <td>3</td>\n",
       "      <td>5</td>\n",
       "    </tr>\n",
       "    <tr>\n",
       "      <th>2</th>\n",
       "      <td>3/5/2020</td>\n",
       "      <td>5368</td>\n",
       "      <td>665</td>\n",
       "      <td>65</td>\n",
       "      <td>886</td>\n",
       "      <td>2</td>\n",
       "    </tr>\n",
       "    <tr>\n",
       "      <th>3</th>\n",
       "      <td>4/5/2020</td>\n",
       "      <td>6260</td>\n",
       "      <td>688</td>\n",
       "      <td>90</td>\n",
       "      <td>147</td>\n",
       "      <td>5</td>\n",
       "    </tr>\n",
       "    <tr>\n",
       "      <th>4</th>\n",
       "      <td>5/5/2020</td>\n",
       "      <td>5711</td>\n",
       "      <td>786</td>\n",
       "      <td>128</td>\n",
       "      <td>193</td>\n",
       "      <td>1</td>\n",
       "    </tr>\n",
       "  </tbody>\n",
       "</table>\n",
       "</div>"
      ],
      "text/plain": [
       "       Date  Tested  Confirmed  Isolation  Recovered  Death\n",
       "0  1/5/2020    5573        571        175         14      2\n",
       "1  2/5/2020    5827        552        168          3      5\n",
       "2  3/5/2020    5368        665         65        886      2\n",
       "3  4/5/2020    6260        688         90        147      5\n",
       "4  5/5/2020    5711        786        128        193      1"
      ]
     },
     "execution_count": 3,
     "metadata": {},
     "output_type": "execute_result"
    }
   ],
   "source": [
    "df = pd.read_csv(\"covid19bd.csv\", header = 0) # dataset\n",
    "df.head()"
   ]
  },
  {
   "cell_type": "code",
   "execution_count": 4,
   "metadata": {},
   "outputs": [
    {
     "name": "stdout",
     "output_type": "stream",
     "text": [
      "Available 58 days\n"
     ]
    }
   ],
   "source": [
    "available = len(df.index) \n",
    "print(\"Available\", available, \"days\")"
   ]
  },
  {
   "cell_type": "code",
   "execution_count": 5,
   "metadata": {},
   "outputs": [],
   "source": [
    "start_date = df['Date'].iloc[0]\n",
    "infected = df['Confirmed'].values.tolist()\n",
    "tested = df['Tested'].values.tolist()\n",
    "recovered = df['Recovered'].values.tolist()\n",
    "deaths = df['Death'].values.tolist()\n",
    "isolation = df['Isolation'].values.tolist()"
   ]
  },
  {
   "cell_type": "code",
   "execution_count": 6,
   "metadata": {},
   "outputs": [],
   "source": [
    "t_max = available + 7\n",
    "\n",
    "date = np.array('2020-05-01', dtype=np.datetime64) \n",
    "dates = date + np.arange(t_max)\n",
    "# print(np.arange(t_max))\n",
    "str_dates = []\n",
    "for i in dates:\n",
    "    str_dates.append(str(i))\n",
    "    \n",
    "# str_dates    "
   ]
  },
  {
   "cell_type": "code",
   "execution_count": 7,
   "metadata": {},
   "outputs": [],
   "source": [
    "def seird_model_sd(init_vals, params, t, rho):\n",
    "\n",
    "    DATE_0, S_0, E_0, I_0, Is_0, R_0, D_0 = init_vals\n",
    "    DATE, S, E, I, Is, R, D = [DATE_0], [S_0], [E_0],[I_0], [Is_0], [R_0], [D_0]\n",
    "    alpha, beta, gamma, delta, miu = params\n",
    "    \n",
    "    ##### Create next t days ######\n",
    "    date = np.array(DATE, dtype=np.datetime64)\n",
    "    dates = date + np.arange(len(t))\n",
    "    str_dates = []\n",
    "    for i in dates:\n",
    "        str_dates.append(str(i))\n",
    "        \n",
    "    ##### End creating t days #####\n",
    "    for tic in t[1:]:\n",
    "\n",
    "        DATE.append(str_dates[tic])\n",
    "\n",
    "        next_S = abs(S[-1] - ( rho*beta * (S[-1] / N) * I[-1] ))   # Susceptible\n",
    "        next_E = abs(E[-1] + ( rho*beta * (S[-1] / N) * I[-1] ) - ( alpha * E[-1] ) - (miu * E[-1])) # Exposed\n",
    "        next_I = abs(I[-1] + ( miu * E[-1] ) - ( gamma * I[-1] ) - ( delta * I[-1] )) # Infected\n",
    "        next_Is = abs(Is[-1] + ( alpha * E[-1] )) #Isolation\n",
    "        next_R = abs (R[-1] + ( gamma * I[-1] )) # Recovered\n",
    "        next_D = abs (D[-1] + ( delta * I[-1] )) # Deaths\n",
    "        \n",
    "        \n",
    "        S.append(next_S)\n",
    "        E.append(next_E)\n",
    "        I.append(next_I)\n",
    "        Is.append(next_Is)\n",
    "        R.append(next_R)\n",
    "        D.append(next_D)\n",
    "\n",
    "\n",
    "    return np.stack([DATE, S, E, I, Is, R, D]).T"
   ]
  },
  {
   "cell_type": "code",
   "execution_count": 8,
   "metadata": {},
   "outputs": [],
   "source": [
    "train_min = 1\n",
    "train_max = available + 1\n",
    "\n",
    "inf_train = []\n",
    "rec_train = []\n",
    "death_train = []\n",
    "iso_train = []\n",
    "\n",
    "for i in range(train_min+1, train_max):\n",
    "    j = i - 2\n",
    "    inf_train.append(infected[j:i])\n",
    "    rec_train.append(recovered[j:i])\n",
    "    death_train.append(deaths[j:i])\n",
    "    iso_train.append(isolation[j:i])"
   ]
  },
  {
   "cell_type": "code",
   "execution_count": 9,
   "metadata": {},
   "outputs": [
    {
     "name": "stdout",
     "output_type": "stream",
     "text": [
      "[0 1 2]\n"
     ]
    }
   ],
   "source": [
    "t2 = np.arange(0, 3, 1)\n",
    "print(t2)"
   ]
  },
  {
   "cell_type": "code",
   "execution_count": 10,
   "metadata": {},
   "outputs": [],
   "source": [
    "rho = 1"
   ]
  },
  {
   "cell_type": "code",
   "execution_count": 187,
   "metadata": {},
   "outputs": [
    {
     "name": "stdout",
     "output_type": "stream",
     "text": [
      "2020-06-16\n",
      "2020-06-17\n",
      "2020-06-18\n",
      "2020-06-19\n",
      "2020-06-20\n",
      "2020-06-21\n",
      "2020-06-22\n",
      "2020-06-23\n",
      "2020-06-24\n",
      "2020-06-25\n",
      "2020-06-26\n"
     ]
    }
   ],
   "source": [
    "last7_vals = []\n",
    "last7_params = []\n",
    "\n",
    "# vals=[]\n",
    "# param = []\n",
    "\n",
    "t_incub = 7  # Assumption 7 days\n",
    "\n",
    "for sample in range(len(inf_train)):\n",
    "\n",
    "    i_0 = inf_train[sample][0]\n",
    "    i_1 = inf_train[sample][1]\n",
    "    i_diff = i_1 - i_0\n",
    "\n",
    "\n",
    "    r_0 = rec_train[sample][0]\n",
    "    r_1 = rec_train[sample][1]\n",
    "    r_diff = r_1 - r_0\n",
    "\n",
    "\n",
    "    d_0 = death_train[sample][0]\n",
    "    d_1 = death_train[sample][1]\n",
    "    d_diff = d_1 - d_0\n",
    "    \n",
    "    is_0 = iso_train[sample][0]\n",
    "    is_1 = iso_train[sample][1]\n",
    "    is_diff = is_1 - is_0\n",
    "\n",
    "\n",
    "#     if (sample == 0):\n",
    "\n",
    "    e_0 = (tested[sample] + isolation[sample])\n",
    "    e_1 = (tested[sample+1] + isolation[sample+1])\n",
    "    e_diff = e_1 - e_0\n",
    "        \n",
    "    s_0 = N - e_0 - i_0 - is_0 - r_0 - d_0\n",
    "          \n",
    "\n",
    "    alpha = abs((is_diff) / e_0)  # alpha\n",
    "    beta = abs(( ( ( e_diff + i_diff + r_diff + d_diff+ is_diff) * N ) / ( s_0 * i_0 ) )) # beta\n",
    "    gamma = abs(r_diff / i_0 ) # gamma\n",
    "    delta = abs(d_diff / i_0)  # delta\n",
    "    miu = abs((i_diff + r_diff + d_diff)/e_0) #miu\n",
    "\n",
    "    init_vals = str_dates[sample], s_0, e_0, i_0, is_0, r_0, d_0\n",
    "    params = alpha, beta, gamma, delta, miu\n",
    "    pred = seird_model_sd(init_vals, params, t2, rho)\n",
    "    \n",
    "    # Date: 0, S:1, E:2, I:3, Is:4, R:5, D:6\n",
    "    \n",
    "\n",
    "    \n",
    "    # Store Last seven cases for predecting future\n",
    "    if ((len( inf_train )  - sample ) <= 11 and (len( inf_train )  - sample ) > 0 ):\n",
    "        print(str_dates[sample])\n",
    "        last7_vals.append(init_vals)\n",
    "        last7_params.append(params)"
   ]
  },
  {
   "cell_type": "code",
   "execution_count": 188,
   "metadata": {},
   "outputs": [],
   "source": [
    "t = np.arange(0,10,1)\n",
    "final=[]"
   ]
  },
  {
   "cell_type": "code",
   "execution_count": 189,
   "metadata": {},
   "outputs": [
    {
     "name": "stdout",
     "output_type": "stream",
     "text": [
      "Predictions using 2020-06-16 parameters\n",
      "\n",
      "-----------------------------------------------------------------\n",
      "Date \t\tInfected \tRecovered \tDeaths \t Isolation\n",
      "-----------------------------------------------------------------\n",
      "2020-06-16 \t 3862 \t\t 2237 \t\t 53 \t  635 \t\t\n",
      "------------------------------------------------------------------\n",
      "\n",
      "\n"
     ]
    }
   ],
   "source": [
    "val=[]\n",
    "results = seird_model_sd(last7_vals[0], last7_params[0], t, rho)\n",
    "print(\"Predictions using\", last7_vals[0][0], \"parameters\\n\")\n",
    "print(\"-----------------------------------------------------------------\")\n",
    "print(\"Date\", \"\\t\\tInfected\", \"\\tRecovered\", \"\\tDeaths\", \"\\t Isolation\")\n",
    "print(\"-----------------------------------------------------------------\")\n",
    "print(results[0][0], \"\\t\", int(float(results[0][3])), \"\\t\\t\", int(float(results[0][5])), \n",
    "              \"\\t\\t\", int(float(results[0][6])), \"\\t \", int(float(results[0][4])),\"\\t\\t\")\n",
    "print(\"------------------------------------------------------------------\\n\\n\") \n",
    "val.append(results[0][0])\n",
    "val.append(int(float(results[0][1])))\n",
    "val.append(int(float(results[0][2])))\n",
    "val.append(int(float(results[0][3])))\n",
    "val.append(int(float(results[0][4])))\n",
    "val.append(int(float(results[0][5])))\n",
    "val.append(int(float(results[0][6])))\n",
    "\n",
    "final.append(val)"
   ]
  },
  {
   "cell_type": "code",
   "execution_count": 190,
   "metadata": {},
   "outputs": [],
   "source": [
    "t1 = np.arange(0,2,1)"
   ]
  },
  {
   "cell_type": "code",
   "execution_count": 191,
   "metadata": {
    "scrolled": false
   },
   "outputs": [
    {
     "name": "stdout",
     "output_type": "stream",
     "text": [
      "Predictions using 2020-06-16 parameters\n",
      "\n",
      "-----------------------------------------------------------------\n",
      "Date \t\tInfected \tRecovered \tDeaths \t Isolation\n",
      "-----------------------------------------------------------------\n",
      "2020-06-17 \t 3716 \t\t 2549 \t\t 63 \t  718 \t\t\n",
      "------------------------------------------------------------------\n",
      "\n",
      "\n",
      "Predictions using 2020-06-17 parameters\n",
      "\n",
      "-----------------------------------------------------------------\n",
      "Date \t\tInfected \tRecovered \tDeaths \t Isolation\n",
      "-----------------------------------------------------------------\n",
      "2020-06-18 \t 3821 \t\t 2595 \t\t 67 \t  761 \t\t\n",
      "------------------------------------------------------------------\n",
      "\n",
      "\n",
      "Predictions using 2020-06-18 parameters\n",
      "\n",
      "-----------------------------------------------------------------\n",
      "Date \t\tInfected \tRecovered \tDeaths \t Isolation\n",
      "-----------------------------------------------------------------\n",
      "2020-06-19 \t 3289 \t\t 3404 \t\t 74 \t  772 \t\t\n",
      "------------------------------------------------------------------\n",
      "\n",
      "\n",
      "Predictions using 2020-06-19 parameters\n",
      "\n",
      "-----------------------------------------------------------------\n",
      "Date \t\tInfected \tRecovered \tDeaths \t Isolation\n",
      "-----------------------------------------------------------------\n",
      "2020-06-20 \t 3485 \t\t 5161 \t\t 82 \t  835 \t\t\n",
      "------------------------------------------------------------------\n",
      "\n",
      "\n",
      "Predictions using 2020-06-20 parameters\n",
      "\n",
      "-----------------------------------------------------------------\n",
      "Date \t\tInfected \tRecovered \tDeaths \t Isolation\n",
      "-----------------------------------------------------------------\n",
      "2020-06-21 \t 3936 \t\t 5199 \t\t 84 \t  839 \t\t\n",
      "------------------------------------------------------------------\n",
      "\n",
      "\n",
      "Predictions using 2020-06-21 parameters\n",
      "\n",
      "-----------------------------------------------------------------\n",
      "Date \t\tInfected \tRecovered \tDeaths \t Isolation\n",
      "-----------------------------------------------------------------\n",
      "2020-06-22 \t 4052 \t\t 5861 \t\t 85 \t  857 \t\t\n",
      "------------------------------------------------------------------\n",
      "\n",
      "\n",
      "Predictions using 2020-06-22 parameters\n",
      "\n",
      "-----------------------------------------------------------------\n",
      "Date \t\tInfected \tRecovered \tDeaths \t Isolation\n",
      "-----------------------------------------------------------------\n",
      "2020-06-23 \t 4336 \t\t 6790 \t\t 90 \t  944 \t\t\n",
      "------------------------------------------------------------------\n",
      "\n",
      "\n",
      "Predictions using 2020-06-23 parameters\n",
      "\n",
      "-----------------------------------------------------------------\n",
      "Date \t\tInfected \tRecovered \tDeaths \t Isolation\n",
      "-----------------------------------------------------------------\n",
      "2020-06-24 \t 4389 \t\t 8252 \t\t 97 \t  1031 \t\t\n",
      "------------------------------------------------------------------\n",
      "\n",
      "\n",
      "Predictions using 2020-06-24 parameters\n",
      "\n",
      "-----------------------------------------------------------------\n",
      "Date \t\tInfected \tRecovered \tDeaths \t Isolation\n",
      "-----------------------------------------------------------------\n",
      "2020-06-25 \t 4492 \t\t 8508 \t\t 99 \t  1163 \t\t\n",
      "------------------------------------------------------------------\n",
      "\n",
      "\n",
      "Predictions using 2020-06-25 parameters\n",
      "\n",
      "-----------------------------------------------------------------\n",
      "Date \t\tInfected \tRecovered \tDeaths \t Isolation\n",
      "-----------------------------------------------------------------\n",
      "2020-06-26 \t 4611 \t\t 8725 \t\t 100 \t  1435 \t\t\n",
      "------------------------------------------------------------------\n",
      "\n",
      "\n"
     ]
    }
   ],
   "source": [
    "for day in t:\n",
    "    val=[]\n",
    "    results = seird_model_sd(final[day], last7_params[day], t1, rho)\n",
    "    print(\"Predictions using\", final[day][0], \"parameters\\n\")\n",
    "    print(\"-----------------------------------------------------------------\")\n",
    "    print(\"Date\", \"\\t\\tInfected\", \"\\tRecovered\", \"\\tDeaths\", \"\\t Isolation\")\n",
    "    print(\"-----------------------------------------------------------------\")\n",
    "    print(results[1][0], \"\\t\", int(float(results[1][3])), \"\\t\\t\", int(float(results[1][5])), \n",
    "                  \"\\t\\t\", int(float(results[1][6])), \"\\t \", int(float(results[1][4])),\"\\t\\t\")\n",
    "    print(\"------------------------------------------------------------------\\n\\n\") \n",
    "    val.append(results[1][0])\n",
    "    val.append(int(float(results[1][1])))\n",
    "    val.append(int(float(results[1][2])))\n",
    "    val.append(int(float(results[1][3])))\n",
    "    val.append(int(float(results[1][4])))\n",
    "    val.append(int(float(results[1][5])))\n",
    "    val.append(int(float(results[1][6])))\n",
    "    final.append(val)"
   ]
  },
  {
   "cell_type": "code",
   "execution_count": 192,
   "metadata": {},
   "outputs": [
    {
     "data": {
      "text/plain": [
       "[['2020-06-16', 164664747, 17849, 3862, 635, 2237, 53],\n",
       " ['2020-06-17', 164664444, 17893, 3716, 718, 2549, 63],\n",
       " ['2020-06-18', 164663038, 19098, 3821, 761, 2595, 67],\n",
       " ['2020-06-19', 164662695, 19143, 3289, 772, 3404, 74],\n",
       " ['2020-06-20', 164658228, 21583, 3485, 835, 5161, 82],\n",
       " ['2020-06-21', 164655790, 23522, 3936, 839, 5199, 84],\n",
       " ['2020-06-22', 164654571, 23941, 4052, 857, 5861, 85],\n",
       " ['2020-06-23', 164653943, 23261, 4336, 944, 6790, 90],\n",
       " ['2020-06-24', 164653685, 21907, 4389, 1031, 8252, 97],\n",
       " ['2020-06-25', 164651603, 23493, 4492, 1163, 8508, 99],\n",
       " ['2020-06-26', 164650848, 23637, 4611, 1435, 8725, 100]]"
      ]
     },
     "execution_count": 192,
     "metadata": {},
     "output_type": "execute_result"
    }
   ],
   "source": [
    "final"
   ]
  },
  {
   "cell_type": "code",
   "execution_count": 251,
   "metadata": {},
   "outputs": [],
   "source": [
    "date=[]\n",
    "i=[]\n",
    "iso=[]\n",
    "r=[]\n",
    "d=[]\n",
    "\n",
    "for j in range(1, len(final)):\n",
    "    date.append(final[j][0])\n",
    "    i.append(int(float(final[j][3])))\n",
    "    iso.append(int(float(final[j][4])))\n",
    "    r.append(int(float(final[j][5])))\n",
    "    d.append(int(float(final[j][6])))"
   ]
  },
  {
   "cell_type": "code",
   "execution_count": 252,
   "metadata": {},
   "outputs": [],
   "source": [
    "infect = []\n",
    "isolate = []\n",
    "recover = []\n",
    "death = []\n",
    "\n",
    "n = 47\n",
    "\n",
    "for k in range(10):\n",
    "    infect.append(infected[n+k])\n",
    "    isolate.append(isolation[n+k])\n",
    "    recover.append(recovered[n+k])\n",
    "    death.append(deaths[n+k])"
   ]
  },
  {
   "cell_type": "code",
   "execution_count": 253,
   "metadata": {},
   "outputs": [],
   "source": [
    "# infected[34]"
   ]
  },
  {
   "cell_type": "code",
   "execution_count": 254,
   "metadata": {},
   "outputs": [
    {
     "data": {
      "text/plain": [
       "[1925, 1975, 2781, 1048, 1084, 1678, 880, 2031, 1829, 1638]"
      ]
     },
     "execution_count": 254,
     "metadata": {},
     "output_type": "execute_result"
    }
   ],
   "source": [
    "recover"
   ]
  },
  {
   "cell_type": "code",
   "execution_count": 255,
   "metadata": {},
   "outputs": [
    {
     "data": {
      "text/plain": [
       "[2549, 2595, 3404, 5161, 5199, 5861, 6790, 8252, 8508, 8725]"
      ]
     },
     "execution_count": 255,
     "metadata": {},
     "output_type": "execute_result"
    }
   ],
   "source": [
    "r"
   ]
  },
  {
   "cell_type": "code",
   "execution_count": 256,
   "metadata": {},
   "outputs": [
    {
     "name": "stdout",
     "output_type": "stream",
     "text": [
      "Predictions using 2020-06-17 parameters\n",
      "\n",
      "-----------------------------------------------------------------------------\n",
      "Date \t\tInfectedAcc \tRecoveredAcc \tDeathsAcc    IsolationAcc\n",
      "-----------------------------------------------------------------------------\n",
      "2020-06-17 \t 0.921 \t\t 0.755 \t\t 0.683 \t\t 1.000\n",
      "2020-06-18 \t 0.995 \t\t 0.761 \t\t 0.567 \t\t 0.886\n",
      "2020-06-19 \t 0.986 \t\t 0.817 \t\t 0.608 \t\t 0.886\n",
      "2020-06-20 \t 0.930 \t\t 0.203 \t\t 0.451 \t\t 0.752\n",
      "2020-06-21 \t 0.897 \t\t 0.209 \t\t 0.464 \t\t 0.752\n",
      "2020-06-22 \t 0.859 \t\t 0.286 \t\t 0.447 \t\t 0.721\n",
      "2020-06-23 \t 0.787 \t\t 0.130 \t\t 0.478 \t\t 0.720\n",
      "2020-06-24 \t 0.789 \t\t 0.246 \t\t 0.381 \t\t 0.726\n",
      "2020-06-25 \t 0.878 \t\t 0.215 \t\t 0.394 \t\t 0.555\n",
      "2020-06-26 \t 0.839 \t\t 0.188 \t\t 0.400 \t\t 0.600\n",
      "-----------------------------------------------------------------------------\n"
     ]
    }
   ],
   "source": [
    "print(\"Predictions using\", date[0], \"parameters\\n\")\n",
    "print(\"-----------------------------------------------------------------------------\")\n",
    "print(\"Date\", \"\\t\\tInfectedAcc\", \"\\tRecoveredAcc\", \"\\tDeathsAcc\", \"   IsolationAcc\")\n",
    "print(\"-----------------------------------------------------------------------------\")\n",
    "for a in range(len(date)):\n",
    "    print(date[a], \"\\t\", \n",
    "          \"{:.3f}\".format(abs(1-abs(float(infect[a])-(float(i[a])))/float(i[a]))),\"\\t\\t\", \n",
    "          \"{:.3f}\".format(abs(1-abs(float(recover[a])-(float(r[a])))/float(r[a]))), \"\\t\\t\", \n",
    "          \"{:.3f}\".format(abs(1-abs(float(death[a])-(float(d[a])))/float(d[a]))), \"\\t\\t\", \n",
    "          \"{:.3f}\".format(abs(1-abs(float(isolate[a])-(float(iso[a])))/float(iso[a]))) )\n",
    "    \n",
    "print(\"-----------------------------------------------------------------------------\")    "
   ]
  },
  {
   "cell_type": "code",
   "execution_count": 257,
   "metadata": {},
   "outputs": [
    {
     "data": {
      "image/png": "[encoded data removed]",
      "text/plain": [
       "<Figure size 576x288 with 1 Axes>"
      ]
     },
     "metadata": {
      "needs_background": "light"
     },
     "output_type": "display_data"
    }
   ],
   "source": [
    "plt.figure(figsize=(8,4))\n",
    "plt.plot(date, infect, color = 'midnightblue', label = 'Actual', linestyle='-', marker='o')\n",
    "plt.plot(date, i, color = 'blue', label = 'Predicted', linestyle='--', marker='s')\n",
    "\n",
    "plt.xticks(rotation=90)\n",
    "plt.xlabel(\"Dates\", fontsize=12)\n",
    "plt.ylabel(\"Infected Population\", fontsize=12)\n",
    "\n",
    "plt.legend(prop={'size':10}, loc='upper left')\n",
    "plt.show()"
   ]
  },
  {
   "cell_type": "code",
   "execution_count": 258,
   "metadata": {},
   "outputs": [
    {
     "data": {
      "image/png": "[encoded data removed]",
      "text/plain": [
       "<Figure size 576x288 with 1 Axes>"
      ]
     },
     "metadata": {
      "needs_background": "light"
     },
     "output_type": "display_data"
    }
   ],
   "source": [
    "plt.figure(figsize=(8,4))\n",
    "plt.plot(date, isolate, color = 'olive', label = 'Actual', linestyle='-', marker='o')\n",
    "plt.plot(date, iso, color = 'y', label = 'Predicted', linestyle='--', marker='s')\n",
    "\n",
    "plt.xticks(rotation=90)\n",
    "plt.xlabel(\"Dates\", fontsize=12)\n",
    "plt.ylabel(\"Isolated Population\", fontsize=12)\n",
    "\n",
    "plt.legend(prop={'size':10}, loc='upper left')\n",
    "plt.show()"
   ]
  },
  {
   "cell_type": "code",
   "execution_count": 237,
   "metadata": {},
   "outputs": [
    {
     "data": {
      "image/png": "[encoded data removed]",
      "text/plain": [
       "<Figure size 576x288 with 1 Axes>"
      ]
     },
     "metadata": {
      "needs_background": "light"
     },
     "output_type": "display_data"
    }
   ],
   "source": [
    "plt.figure(figsize=(8,4))\n",
    "plt.plot(date, recover, color = 'forestgreen', label = 'Actual', linestyle='-', marker='o')\n",
    "plt.plot(date, r, color = 'limegreen', label = 'Predicted', linestyle='--', marker='s')\n",
    "\n",
    "plt.xticks(rotation=90)\n",
    "plt.xlabel(\"Dates\", fontsize=12)\n",
    "plt.ylabel(\"Recovered Population\", fontsize=12)\n",
    "\n",
    "plt.legend(prop={'size':10}, loc='upper left')\n",
    "plt.show()"
   ]
  },
  {
   "cell_type": "code",
   "execution_count": 238,
   "metadata": {},
   "outputs": [
    {
     "data": {
      "image/png": "[encoded data removed]",
      "text/plain": [
       "<Figure size 576x288 with 1 Axes>"
      ]
     },
     "metadata": {
      "needs_background": "light"
     },
     "output_type": "display_data"
    }
   ],
   "source": [
    "plt.figure(figsize=(8,4))\n",
    "plt.plot(date, death, color = 'maroon', label = 'Actual', linestyle='-', marker='o')\n",
    "plt.plot(date, d, color = 'red', label = 'Predicted', linestyle='--', marker='s')\n",
    "\n",
    "plt.xticks(rotation=90)\n",
    "plt.xlabel(\"Dates\", fontsize=12)\n",
    "plt.ylabel(\"Death Population\", fontsize=12)\n",
    "\n",
    "plt.legend(prop={'size':10}, loc='upper left')\n",
    "plt.show()"
   ]
  },
  {
   "cell_type": "code",
   "execution_count": null,
   "metadata": {},
   "outputs": [],
   "source": []
  }
 ],
 "metadata": {
  "kernelspec": {
   "display_name": "Python 3",
   "language": "python",
   "name": "python3"
  },
  "language_info": {
   "codemirror_mode": {
    "name": "ipython",
    "version": 3
   },
   "file_extension": ".py",
   "mimetype": "text/x-python",
   "name": "python",
   "nbconvert_exporter": "python",
   "pygments_lexer": "ipython3",
   "version": "3.7.3"
  }
 },
 "nbformat": 4,
 "nbformat_minor": 2
}
